{
 "cells": [
  {
   "cell_type": "markdown",
   "id": "0d2f34b8",
   "metadata": {},
   "source": [
    "# Exercises week 4: Hydrogen\n",
    "\n",
    "## units with pint\n",
    "\n",
    "As recommended, the package `pint` is quite good for dealing with units. "
   ]
  },
  {
   "cell_type": "code",
   "execution_count": null,
   "id": "55a489be",
   "metadata": {},
   "outputs": [],
   "source": [
    "from pint import UnitRegistry\n",
    "\n",
    "\n",
    "u = UnitRegistry()"
   ]
  },
  {
   "cell_type": "markdown",
   "id": "7aab2075-7f7e-464e-afb8-0c075f0ac478",
   "metadata": {},
   "source": [
    "## Thermodynamic calculations with gases\n",
    "\n",
    "Throughout the excercises, assume that all gases are ideal and follow $pV = nRT$\n",
    "\n",
    "Here we put units on the gas constant:"
   ]
  },
  {
   "cell_type": "code",
   "execution_count": null,
   "id": "7e26eed2-1965-48cd-93f9-3a09e7bf8efe",
   "metadata": {},
   "outputs": [],
   "source": [
    "from scipy.constants import R\n",
    "\n",
    "\n",
    "R = R * u(\"J/mol/K\")\n",
    "print(R)"
   ]
  },
  {
   "cell_type": "markdown",
   "id": "bc6b6ac4",
   "metadata": {},
   "source": [
    "## 1. Hydrogen production by steam reforming\n",
    "\n",
    "### 1.1 Methane steam reforming (MSR) \n",
    "The methane steam reforming reaction is:\n",
    "\n",
    "$CH_{4}$ + $H_{2}O$ $\\rightarrow$ $CO$ + $3 H_{2}$ with $∆_{r}H°= 206 kJ/mol$\n",
    "\n",
    "### a) Temperature-dependence\n",
    "The equilibrium constant of the steam reforming reaction depends on the temperature.\n",
    "We can calculate the temperature dependence of K according to:\n",
    "\n",
    "$ln K_{2}$ - $ln K_{1}$ = $\\dfrac{-∆_{r}H°}{R}$ $(\\dfrac{1}{T_{2}}$-$\\dfrac{1}{T_{1}}$)\n",
    "\n",
    "Assume that 800 K, the equilibrium constant is $K_{1}$ $=$ $0.05 bar^{-2}$\n",
    "\n",
    "- Calculate $K_{2}$ at 1000, 1200, and 1400 K\n",
    "\n",
    "#### b) Pressure-dependence\n",
    "While the equilibrium constant is pressure-independent, pressure does, however, influence the product yield.\n",
    "- Write down the equilibrium constant $K$ of the MSR reaction. \n",
    "- How does a 3-fold increase in pressure affect the equilibrium gas composition?\n",
    "- With the values determined for $K$ at $T = 800, 1000, 1200$ and $1400 K$ calculate the equilibrium hydrogen partial pressure at a reactor pressure of $p = 2,4,10$, and $20 bar$\n",
    "\n"
   ]
  },
  {
   "cell_type": "code",
   "execution_count": null,
   "id": "4da071a9",
   "metadata": {},
   "outputs": [],
   "source": []
  },
  {
   "cell_type": "markdown",
   "id": "f113bb2b",
   "metadata": {},
   "source": [
    "### 1.2 Water gas shift reaction\n",
    "\n",
    "The water gas shift reaction is slightly exothermic under standard conditions:\n",
    "\n",
    "$CO$ + $H_{2}O$ $\\rightarrow$ $CO_{2}$ + $H_{2}$ with $∆_{r}H°= -41 kJ/mol$\n",
    "\n",
    "The temperature dependence of the equilibrium constant K can be expressed as:\n",
    "$lnK_{T} = -2.4 + 0.0004*T + \\dfrac{2181}{T}$\n",
    "\n",
    "Calculate the equilibrium constant K at 350 degrees C (high-temperature shift reaction) and  200 degrees C (low-temperature shift reaction).\n",
    "\n",
    "What is the equilibrium partial pressure of CO in the HTS and LTS when both reactors are run at 40 bars?\n"
   ]
  },
  {
   "cell_type": "code",
   "execution_count": null,
   "id": "354da694-b975-4e92-b3b6-1fdd9c907d74",
   "metadata": {},
   "outputs": [],
   "source": []
  },
  {
   "cell_type": "markdown",
   "id": "69adfcbd",
   "metadata": {},
   "source": [
    "## 2 Hydrogen from electrolysis\n",
    "\n",
    "### 2.1 Production rate of electrolyzers\n",
    "\n",
    "One electrolyzer operates at a current density of 1500 A/m^2 with an area of 1.5 m^2 , while another one operates at 1750 A/m^2 with an area of 1 m^2.\n",
    "Both electrolyzers have a current efficiency of 98.5 %. \n",
    "\n",
    "- What is the production rate of Hydrogen (kg/h) for the two different electrolyzers?\n",
    "- What is the corresponding water consumption (kg/h) for the electrolyzers?\n"
   ]
  },
  {
   "cell_type": "code",
   "execution_count": null,
   "id": "b63171f4-a6aa-4bf3-bddb-d5247aced07e",
   "metadata": {},
   "outputs": [],
   "source": []
  },
  {
   "cell_type": "markdown",
   "id": "38b183dc-ad2e-418c-90ee-bbd6b2bb2f0a",
   "metadata": {},
   "source": [
    "### 2.2 Current of electrolyzers\n",
    "\n",
    "A water electrolyzer operating at room temperature and ambient pressure requires 1.9 V to produce 1 t of hydrogen per day. How much current is needed? How would the current change if 10 of such electrolyzer cells in series were to produce 1 t of hydrogen?\n",
    "\n"
   ]
  },
  {
   "cell_type": "code",
   "execution_count": null,
   "id": "00884892-d259-4d2a-be9d-948cdb741aa7",
   "metadata": {},
   "outputs": [],
   "source": []
  },
  {
   "cell_type": "markdown",
   "id": "d4544328",
   "metadata": {},
   "source": [
    "### 2.3 Thermneutral potential of water electrolysis\n",
    "\n",
    "At standard conditions, the water dissociation into hydrogen and oxygen is characterized by these thermodynymic parameters:\n",
    "Reaction enthalpy: $∆_{r}H°= -285.8 kJ/mol$\n",
    "Reaction Gibbs free energy: $∆_{r}G°= -237.2 kJ/mol$\n",
    "\n",
    "\n",
    "The electrochemical equilibrium potential of water electrolysis can be calculated by:\n",
    "$E_{0} = \\dfrac{∆G°}{nF}$ \n",
    "\n",
    "In addition to the electric energy, heat  is required from the surroundings to run the electrolysis at standard conditions. \n",
    "- Calculate how much additional energy is required to reach the total energy $∆_{r}H°$ required.\n",
    "- What would be the corresponding thermoneutral potential?\n",
    "$E_{thermo} = \\dfrac{∆H°}{nF}$\n",
    "\n",
    "- What is the entropy change $∆S°$ at 25 degrees C?\n",
    "\n",
    "\n",
    "Upon heating, more of the required energy is provided to the system as heat ($Q = T∆S°$). Assume that $∆_{r}H$ is temperature-independen and a pressurized system where water doesnt evaporate until 250 degrees C \n",
    "\n",
    "- How does the electrical energy demand change when the water electrolysis occurs at 80 and 200 degrees C?\n",
    "- Plot the total energy required, the electrical energy required (∆G) and the heat required (T∆S) in a temperature range from 0-250 degrees C. \n",
    "\n"
   ]
  },
  {
   "cell_type": "code",
   "execution_count": null,
   "id": "da52cba6",
   "metadata": {},
   "outputs": [],
   "source": []
  }
 ],
 "metadata": {
  "kernelspec": {
   "display_name": "Python 3 (ipykernel)",
   "language": "python",
   "name": "python3"
  },
  "language_info": {
   "codemirror_mode": {
    "name": "ipython",
    "version": 3
   },
   "file_extension": ".py",
   "mimetype": "text/x-python",
   "name": "python",
   "nbconvert_exporter": "python",
   "pygments_lexer": "ipython3",
   "version": "3.11.5"
  }
 },
 "nbformat": 4,
 "nbformat_minor": 5
}
