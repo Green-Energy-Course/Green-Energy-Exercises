{
 "cells": [
  {
   "cell_type": "markdown",
   "id": "31c086e3",
   "metadata": {},
   "source": [
    "# Exercises week 1\n",
    "\n",
    "## units with pint\n",
    "\n",
    "The package `pint` is quite good for dealing with units. You can install it with `pip`, e.g. \n",
    "`pip install pint`\n",
    "and initiate it like this:"
   ]
  },
  {
   "cell_type": "code",
   "execution_count": 1,
   "id": "b0d63682",
   "metadata": {},
   "outputs": [],
   "source": [
    "from pint import UnitRegistry\n",
    "\n",
    "\n",
    "u = UnitRegistry()"
   ]
  },
  {
   "cell_type": "markdown",
   "id": "d27892a6",
   "metadata": {},
   "source": [
    "After initiating the `pint` unit registry as `u`, you include units like this:"
   ]
  },
  {
   "cell_type": "code",
   "execution_count": 4,
   "id": "eca1c9a6",
   "metadata": {},
   "outputs": [
    {
     "name": "stdout",
     "output_type": "stream",
     "text": [
      "10.0 meter / second\n"
     ]
    }
   ],
   "source": [
    "d = 100 * u(\"m\")  # 100 meters\n",
    "t = 10 * u(\"s\")   # 10 seconds\n",
    "speed = d / t     # the speed of going 100 meters in 10 seconds\n",
    "print(speed)      # 10 m/s"
   ]
  },
  {
   "cell_type": "markdown",
   "id": "bc6b6ac4",
   "metadata": {},
   "source": [
    "### Example: capacity factor\n",
    "\n",
    "As an example of working with pint for energy units, consider the following problem:\n",
    "\n",
    "In 2023, Denmark had 7.48 GW of installed wind power capacity. In that year, wind turbines in Denmark generated 19.41 TWh of electricity.\n",
    "What was the *capacity factor* of wind power in Denmark in 2023?"
   ]
  },
  {
   "cell_type": "code",
   "execution_count": 8,
   "id": "4da071a9",
   "metadata": {},
   "outputs": [
    {
     "name": "stdout",
     "output_type": "stream",
     "text": [
      "29.60209657878458 percent\n"
     ]
    }
   ],
   "source": [
    "generated = 19.41 * u(\"TWh\")  # generated in 1 year\n",
    "capacity = 7.48 * u(\"GW\")   # installed capacity\n",
    "\n",
    "# the maximum amount that could have been generated is capacity * 1 year\n",
    "# the capacity factor is the ratio of what actually was generated to this maximum:\n",
    "\n",
    "capacity_factor = generated / (capacity * 1 * u(\"yr\"))\n",
    "\n",
    "capacity_factor.ito(\"%\")  # ito means in-place conversion to specified units, here percent\n",
    "# it raises an error if the unit conversion is impossible. \n",
    "# (This is a sign that there is something wrong in the equation you are trying to use!)\n",
    "\n",
    "print(capacity_factor)"
   ]
  },
  {
   "cell_type": "markdown",
   "id": "d77ce7b1",
   "metadata": {},
   "source": [
    "## 1. Calculating the world's carbon budget\n",
    "\n",
    "\n",
    "### 1.1 CO2 in the atmosphere\n",
    "\n",
    "In December 2024, earth's atmosphere was 425.4 ppm CO2. source: https://gml.noaa.gov/ccgg/trends/global.html \n",
    "\n",
    "**What is the total mass of CO2 in the atmosphere?**\n",
    "\n",
    "We'll break this up in parts.\n",
    "\n",
    "#### a. Calculate the mass of earth's atmosphere. \n",
    "\n",
    "Hint: you can calculate the mass of the column of air above a square meter of the earth's surface based on the pressure that it exerts, and than multiply that by the number of square meters in the earth's surface area.\n",
    "\n",
    "For this strategy, use:\n",
    "\n",
    "- Earth's radius: 6378 km\n",
    "- Average pressure at sea level: 101000 Pa\n",
    "- Gravitational constant g = 9.8 m/s^2"
   ]
  },
  {
   "cell_type": "code",
   "execution_count": null,
   "id": "55d377fc",
   "metadata": {},
   "outputs": [],
   "source": []
  },
  {
   "cell_type": "markdown",
   "id": "140a3600",
   "metadata": {},
   "source": [
    "#### b. Calculate the number of moles of gas in the earth's atmosphere. \n",
    "\n",
    "Hint: use an average molar mass for the atmosphere based on it being 80% N2 and 20% O2 by mole. \n",
    "\n",
    "Note: The actual composition of dry air is 78% N2, 21% O2, 1% Ar, and trace gases including of course 0.04254% CO2. In general, air is dry air mixed with an amount water vapor that varies with temperature and humidity."
   ]
  },
  {
   "cell_type": "code",
   "execution_count": null,
   "id": "3ed1d756",
   "metadata": {},
   "outputs": [],
   "source": []
  },
  {
   "cell_type": "markdown",
   "id": "1bd9481f",
   "metadata": {},
   "source": [
    "#### c. Calculate the number of moles of CO2 in the atmosphere\n",
    "\n",
    "Hint: 425.4 ppm is a mole fraction!"
   ]
  },
  {
   "cell_type": "code",
   "execution_count": null,
   "id": "9803e6b5",
   "metadata": {},
   "outputs": [],
   "source": []
  },
  {
   "cell_type": "markdown",
   "id": "98ebdf1f",
   "metadata": {},
   "source": [
    "#### d. Calculate the mass of the atmosphere's CO2"
   ]
  },
  {
   "cell_type": "code",
   "execution_count": null,
   "id": "ae881c68",
   "metadata": {},
   "outputs": [],
   "source": []
  },
  {
   "cell_type": "markdown",
   "id": "0a27525b",
   "metadata": {},
   "source": [
    "### 1.2 Emissions and CO2 levels\n",
    "\n",
    "For the past few years, anthroprogenic CO2 emissions have been about 37 Gt CO2 / year.\n",
    "Source: https://ourworldindata.org/co2-emissions \n",
    "\n",
    "Some of that emitted CO2 is adsorbed by the oceans, whereas some stays in the atmosphere.\n",
    "\n",
    "For the past few years, CO2 levels in the atmosphere have increased by about 2.5 ppm / year.\n",
    "\n",
    "What portion of the CO2 emitted by human activities stays in the atmosphere?"
   ]
  },
  {
   "cell_type": "code",
   "execution_count": null,
   "id": "a1c4573a",
   "metadata": {},
   "outputs": [],
   "source": []
  },
  {
   "cell_type": "markdown",
   "id": "3ca265fe",
   "metadata": {},
   "source": [
    "### 1.3 The carbon budget for 2.0 C\n",
    "\n",
    "Within small perturbations of CO2 levels in the atmosphere, the resulting temperature change of earth is approximatly proportional to the change in CO2 concentration. \n",
    "\n",
    "In recent years, the average surface temperature rises about 0.1 degrees celsius for every 10 ppm CO2. \n",
    "\n",
    "The global mean surface temperature in 2024 was 1.5 degrees celsius above the pre-industrial average. \n",
    "\n",
    "The Paris Agreement commits the world to limit temperature increase to 2.0 C above pre-industrial average.\n",
    "\n",
    "What is the mass of CO2 that the world can afford to emit before passing 2.0 C?\n",
    "\n",
    "#### a. What CO2 concentration would bring us to 2.0 C increase in global mean surface temperature?"
   ]
  },
  {
   "cell_type": "code",
   "execution_count": null,
   "id": "72524797",
   "metadata": {},
   "outputs": [],
   "source": []
  },
  {
   "cell_type": "markdown",
   "id": "1b24b450",
   "metadata": {},
   "source": [
    "#### b. What mass of emissions does that correspond to?\n",
    "\n",
    "Hint: Calculate the mass of CO2 corresponding to 1 ppm based on your answers to 1.1, and then the mass CO2 in the atmosphere that would give increase from today's 425.4 ppm to the CO2 concentration from 1.4.a. Then use your answer from 1.2 to calculate the mass of emissions that would result in that much CO2 staying in the atmosphere.\n",
    "\n",
    "This gives you the world CO2 budget"
   ]
  },
  {
   "cell_type": "code",
   "execution_count": null,
   "id": "713bcff9",
   "metadata": {},
   "outputs": [],
   "source": []
  },
  {
   "cell_type": "markdown",
   "id": "d4544328",
   "metadata": {},
   "source": [
    "It would be most fair to divide the remaining CO2 budget up evenly between everyone in the world, as an amount of emissions they are allowed over their remaining lifetime. It might be more practical to devide it by country according to population. Denmark has 5.9 million out of the world's 8.0 billion people. \n",
    "\n",
    "#### c. What is the per-person CO2 budget according to the Paris Agreement?"
   ]
  },
  {
   "cell_type": "code",
   "execution_count": null,
   "id": "da52cba6",
   "metadata": {},
   "outputs": [],
   "source": []
  },
  {
   "cell_type": "markdown",
   "id": "a2882866",
   "metadata": {},
   "source": [
    "#### d. What is Denmark's CO2 budget according to the Paris Agreement?"
   ]
  },
  {
   "cell_type": "code",
   "execution_count": null,
   "id": "cd20a8bc",
   "metadata": {},
   "outputs": [],
   "source": []
  },
  {
   "cell_type": "markdown",
   "id": "4be76201",
   "metadata": {},
   "source": [
    "## 2. Emissions intensity\n",
    "\n"
   ]
  },
  {
   "cell_type": "code",
   "execution_count": null,
   "id": "509f171a",
   "metadata": {},
   "outputs": [],
   "source": []
  }
 ],
 "metadata": {
  "kernelspec": {
   "display_name": "Python 3 (ipykernel)",
   "language": "python",
   "name": "python3"
  },
  "language_info": {
   "codemirror_mode": {
    "name": "ipython",
    "version": 3
   },
   "file_extension": ".py",
   "mimetype": "text/x-python",
   "name": "python",
   "nbconvert_exporter": "python",
   "pygments_lexer": "ipython3",
   "version": "3.11.5"
  }
 },
 "nbformat": 4,
 "nbformat_minor": 5
}
