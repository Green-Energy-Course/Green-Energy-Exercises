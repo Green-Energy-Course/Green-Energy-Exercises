{
 "cells": [
  {
   "cell_type": "markdown",
   "id": "31c086e3",
   "metadata": {},
   "source": [
    "# Exercises week 1\n",
    "\n",
    "## units with pint\n",
    "\n",
    "The package `pint` is quite good for dealing with units. You can install it with `pip`, e.g. \n",
    "`pip install pint`\n",
    "and initiate it like this:"
   ]
  },
  {
   "cell_type": "code",
   "execution_count": null,
   "id": "b0d63682",
   "metadata": {},
   "outputs": [],
   "source": [
    "from pint import UnitRegistry\n",
    "\n",
    "\n",
    "u = UnitRegistry()"
   ]
  },
  {
   "cell_type": "markdown",
   "id": "d27892a6",
   "metadata": {},
   "source": [
    "After initiating the `pint` unit registry as `u`, you include units like this:"
   ]
  },
  {
   "cell_type": "code",
   "execution_count": null,
   "id": "eca1c9a6",
   "metadata": {},
   "outputs": [],
   "source": [
    "d = 100 * u(\"m\")  # 100 meters\n",
    "t = 10 * u(\"s\")   # 10 seconds\n",
    "speed = d / t     # the speed of going 100 meters in 10 seconds\n",
    "print(speed)      # 10 m/s\n",
    "\n",
    "speed.ito(\"km/hr\")  # ito() is an in-place unit conversion\n",
    "# it raises an error if the dimensions don't match.\n",
    "\n",
    "print(speed)      # 36 km/hr"
   ]
  },
  {
   "cell_type": "markdown",
   "id": "bc6b6ac4",
   "metadata": {},
   "source": [
    "## 1. Working with energy units\n",
    "\n",
    "### 1.1 Capacity factor\n",
    "\n",
    "In 2023, Denmark had 7.48 GW of installed wind power capacity. In that year, wind turbines in Denmark generated 19.41 TWh of electricity.\n",
    "What was the *capacity factor* of wind power in Denmark in 2023?"
   ]
  },
  {
   "cell_type": "code",
   "execution_count": null,
   "id": "4da071a9",
   "metadata": {},
   "outputs": [],
   "source": [
    "generated = 19.41 * u(\"TWh\")  # generated in 1 year\n",
    "capacity = 7.48 * u(\"GW\")   # installed capacity\n",
    "\n",
    "# the maximum amount that could have been generated is capacity * 1 year\n",
    "# the capacity factor is the ratio of what actually was generated to this maximum:\n",
    "\n",
    "capacity_factor = # YOUR CODE HERE\n",
    "\n",
    "capacity_factor.ito(\"%\")  # to convert to percent, capacity_factor has to be a dimensionless ratio\n",
    "\n",
    "print(capacity_factor)"
   ]
  },
  {
   "cell_type": "markdown",
   "id": "f113bb2b",
   "metadata": {},
   "source": [
    "## 1.2 Power calculations\n",
    "\n",
    "### a. Phone battery discharge\n",
    "\n",
    "A typical smartphone has a 4000 mAh, 4.9 V lithium-ion battery. \n",
    "\n",
    "If someone uses a full charge once a 16-hour waking day, they are probably getting too much screen time. What is the averag power being used by the phone during those 16 hours?\n",
    "\n",
    "Also, what is the power running through the charge cable if the battery gets charged in 30 minutes?"
   ]
  },
  {
   "cell_type": "code",
   "execution_count": null,
   "id": "a2445a6c",
   "metadata": {},
   "outputs": [],
   "source": [
    "Q = 4000 * u(\"mAh\")\n",
    "V = 4.9 * u(\"V\")\n",
    "\n",
    "E = Q * V  # Electrical energy is charge times voltage\n",
    "\n",
    "# YOUR CODE HERE"
   ]
  },
  {
   "cell_type": "markdown",
   "id": "69adfcbd",
   "metadata": {},
   "source": [
    "\n",
    "\n",
    "### b. Average power consumption of your brain\n",
    "\n",
    "The brain is a hard-working muscle! About 20% of the energy a human uses goes to their brain, even though the brain is only about 2% of an average human's mass.\n",
    "\n",
    "If a person eats food worth 2500 kcal per day and spends 20% of the energy in the food on thinking, what is the average power consumption of their brain?"
   ]
  },
  {
   "cell_type": "code",
   "execution_count": null,
   "id": "6c19e1ac",
   "metadata": {},
   "outputs": [],
   "source": [
    "total_energy = 2500 * u(\"kcal\")\n",
    "time = 1 * u(\"day\")\n",
    "\n",
    "P_brain = # YOUR CODE HERE"
   ]
  },
  {
   "cell_type": "markdown",
   "id": "59d805de",
   "metadata": {},
   "source": [
    "### c. Pumping gasoline\n",
    "\n",
    "A liter of gasoline releases about 33.6 megajoules of energy when combusted. If you fill a 50-liter tank in 5 minutes, what is the power flowing through the nozzle in your hand?"
   ]
  },
  {
   "cell_type": "code",
   "execution_count": null,
   "id": "bf704b4b",
   "metadata": {},
   "outputs": [],
   "source": []
  },
  {
   "cell_type": "markdown",
   "id": "7b7f673c",
   "metadata": {},
   "source": [
    "###  d. Copenhagen airport\n",
    "\n",
    "Estimate the average power consumption of the fuel leaving the main tank at Copenhagen airport.\n",
    "\n",
    "Statistics on this seem hard to find. Do better if you can, but a crude way to estimate this is as follows:\n",
    "- 30 million passengers passed through airport in 2024. https://en.wikipedia.org/wiki/Copenhagen_Airport#Statistics. Assume half of these are departures.\n",
    "- The most common route was to London. That's 956 km. Make the approximation that that's the average flight distance.\n",
    "- Use an average fuel consumption for flights of 3.5 liters / 100 km / passenger  https://en.wikipedia.org/wiki/Fuel_economy_in_aircraft \n",
    "- Finally, use a jet fuel energy density of 34.7 MJ / liter. https://en.wikipedia.org/wiki/Jet_fuel "
   ]
  },
  {
   "cell_type": "code",
   "execution_count": null,
   "id": "b95d5835",
   "metadata": {},
   "outputs": [],
   "source": []
  },
  {
   "cell_type": "markdown",
   "id": "0a997a1d",
   "metadata": {},
   "source": [
    "### e. Denmark's total power consumption\n",
    "\n",
    "Total energy consumption (including both fuel and renewable electricity) is typically given in petajoules, PJ (when not in some stupid old unit like \"megaton oil equivalent\" Mtoe or \"quadrilion british thermal units\" quad). In 2024 energy consumption in Denmark was 781 PJ. \n",
    "\n",
    "What is that in GWh?\n",
    "\n",
    "What was the average power being consumed in Denmark?"
   ]
  },
  {
   "cell_type": "code",
   "execution_count": null,
   "id": "c9813cab",
   "metadata": {},
   "outputs": [],
   "source": []
  },
  {
   "cell_type": "markdown",
   "id": "a4da7f7f",
   "metadata": {},
   "source": [
    "### f. Solar energy input to earth\n",
    "\n",
    "What is the total amount of energy hitting the earth in the form of sunlight?\n",
    "Use that the earth's radius is 6378 km and the solar flux at this distance from the sun is 1361 W/m2."
   ]
  },
  {
   "cell_type": "code",
   "execution_count": null,
   "id": "505a607d",
   "metadata": {},
   "outputs": [],
   "source": []
  },
  {
   "cell_type": "markdown",
   "id": "0ed3a900",
   "metadata": {},
   "source": [
    "## 1.3 Energy density of fuels\n",
    "\n",
    "\n",
    "Chemical energy is amazing: When it comes to energy density and convenience, fuel, especially liquid fuel, is hard to beat.\n",
    "\n",
    "The energy in fuel comes from its exergenic (negative delta G) reaction with oxygen. The energy content of a fuel is therefore defined as its free energy of combustion with oxygen.\n",
    "\n",
    "For the following fuels\n",
    "- CH4 (natural gas),\n",
    "- C (coal),\n",
    "- C10H22 (to approximate jet fuel),\n",
    "- CH3OH (methanol), and\n",
    "- H2 (hydrogen),\n",
    "\n",
    "write the balanced combustion reaction and calculate:\n",
    "\n",
    "### a. The molar energy density (MWh/mol)"
   ]
  },
  {
   "cell_type": "code",
   "execution_count": null,
   "id": "eb067a9f",
   "metadata": {},
   "outputs": [],
   "source": []
  },
  {
   "cell_type": "markdown",
   "id": "d9827752",
   "metadata": {},
   "source": [
    "### b. The mass energy density (MWh/kg)"
   ]
  },
  {
   "cell_type": "code",
   "execution_count": null,
   "id": "8a1d792d",
   "metadata": {},
   "outputs": [],
   "source": []
  },
  {
   "cell_type": "markdown",
   "id": "ea779364",
   "metadata": {},
   "source": [
    "### c. The volume energy density (MWh/liter, at standard temperature and pressure), and"
   ]
  },
  {
   "cell_type": "code",
   "execution_count": null,
   "id": "b3c0bd0e",
   "metadata": {},
   "outputs": [],
   "source": []
  },
  {
   "cell_type": "markdown",
   "id": "1bf8f39c",
   "metadata": {},
   "source": [
    "### d. The carbon intensity of energy (kg CO2 / MWh)"
   ]
  },
  {
   "cell_type": "code",
   "execution_count": null,
   "id": "6a2f18e2",
   "metadata": {},
   "outputs": [],
   "source": []
  },
  {
   "cell_type": "markdown",
   "id": "d77ce7b1",
   "metadata": {},
   "source": [
    "## 2. Calculating the world's carbon budget\n",
    "\n",
    "\n",
    "### 2.1 CO2 in the atmosphere\n",
    "\n",
    "In December 2024, earth's atmosphere was 425.4 ppm CO2. source: https://gml.noaa.gov/ccgg/trends/global.html \n",
    "\n",
    "**What is the total mass of CO2 in the atmosphere?**\n",
    "\n",
    "We'll break this up in parts.\n",
    "\n",
    "#### a. Calculate the mass of earth's atmosphere. \n",
    "\n",
    "Hint: you can calculate the mass of the column of air above a square meter of the earth's surface based on the pressure that it exerts, and than multiply that by the number of square meters in the earth's surface area.\n",
    "\n",
    "For this strategy, use:\n",
    "\n",
    "- Earth's radius: 6378 km\n",
    "- Average pressure at sea level: 101000 Pa\n",
    "- Gravitational constant g = 9.8 m/s^2"
   ]
  },
  {
   "cell_type": "code",
   "execution_count": null,
   "id": "55d377fc",
   "metadata": {},
   "outputs": [],
   "source": []
  },
  {
   "cell_type": "markdown",
   "id": "140a3600",
   "metadata": {},
   "source": [
    "#### b. Calculate the number of moles of gas in the earth's atmosphere. \n",
    "\n",
    "Hint: use an average molar mass for the atmosphere based on it being 80% N2 and 20% O2 by mole. \n",
    "\n",
    "Note: The actual composition of dry air is 78% N2, 21% O2, 1% Ar, and trace gases including of course 0.04254% CO2. In general, air is dry air mixed with an amount water vapor that varies with temperature and humidity."
   ]
  },
  {
   "cell_type": "code",
   "execution_count": null,
   "id": "3ed1d756",
   "metadata": {},
   "outputs": [],
   "source": []
  },
  {
   "cell_type": "markdown",
   "id": "1bd9481f",
   "metadata": {},
   "source": [
    "#### c. Calculate the number of moles of CO2 in the atmosphere\n",
    "\n",
    "Hint: 425.4 ppm is a mole fraction!"
   ]
  },
  {
   "cell_type": "code",
   "execution_count": null,
   "id": "9803e6b5",
   "metadata": {},
   "outputs": [],
   "source": []
  },
  {
   "cell_type": "markdown",
   "id": "98ebdf1f",
   "metadata": {},
   "source": [
    "#### d. Calculate the mass of the atmosphere's CO2"
   ]
  },
  {
   "cell_type": "code",
   "execution_count": null,
   "id": "ae881c68",
   "metadata": {},
   "outputs": [],
   "source": []
  },
  {
   "cell_type": "markdown",
   "id": "0a27525b",
   "metadata": {},
   "source": [
    "### 2.2 Emissions and CO2 levels\n",
    "\n",
    "For the past few years, anthroprogenic CO2 emissions have been about 37 Gt CO2 / year.\n",
    "Source: https://ourworldindata.org/co2-emissions \n",
    "\n",
    "Some of that emitted CO2 is adsorbed by the oceans, whereas some stays in the atmosphere.\n",
    "\n",
    "For the past few years, CO2 levels in the atmosphere have increased by about 2.5 ppm / year.\n",
    "\n",
    "What portion of the CO2 emitted by human activities stays in the atmosphere?"
   ]
  },
  {
   "cell_type": "code",
   "execution_count": null,
   "id": "a1c4573a",
   "metadata": {},
   "outputs": [],
   "source": []
  },
  {
   "cell_type": "markdown",
   "id": "3ca265fe",
   "metadata": {},
   "source": [
    "### 2.3 The carbon budget for 2.0 C\n",
    "\n",
    "Within small perturbations of CO2 levels in the atmosphere, the resulting temperature change of earth is approximatly proportional to the change in CO2 concentration. \n",
    "\n",
    "In recent years, the average surface temperature rises about 0.1 degrees celsius for every 10 ppm CO2. \n",
    "\n",
    "The global mean surface temperature in 2024 was 1.5 degrees celsius above the pre-industrial average. \n",
    "\n",
    "The Paris Agreement commits the world to limit temperature increase to 2.0 C above pre-industrial average.\n",
    "\n",
    "What is the mass of CO2 that the world can afford to emit before passing 2.0 C?\n",
    "\n",
    "#### a. What CO2 concentration would bring us to 2.0 C increase in global mean surface temperature?"
   ]
  },
  {
   "cell_type": "code",
   "execution_count": null,
   "id": "72524797",
   "metadata": {},
   "outputs": [],
   "source": []
  },
  {
   "cell_type": "markdown",
   "id": "1b24b450",
   "metadata": {},
   "source": [
    "#### b. What mass of emissions does that correspond to?\n",
    "\n",
    "Hint: Calculate the mass of CO2 corresponding to 1 ppm based on your answers to 1.1, and then the mass CO2 in the atmosphere that would give increase from today's 425.4 ppm to the CO2 concentration from 1.4.a. Then use your answer from 1.2 to calculate the mass of emissions that would result in that much CO2 staying in the atmosphere.\n",
    "\n",
    "This gives you the world CO2 budget"
   ]
  },
  {
   "cell_type": "code",
   "execution_count": null,
   "id": "713bcff9",
   "metadata": {},
   "outputs": [],
   "source": []
  },
  {
   "cell_type": "markdown",
   "id": "d4544328",
   "metadata": {},
   "source": [
    "It would be most fair to divide the remaining CO2 budget up evenly between everyone in the world, as an amount of emissions they are allowed over their remaining lifetime. It might be more practical to devide it by country according to population. Denmark has 5.9 million out of the world's 8.0 billion people. \n",
    "\n",
    "#### c. What is the per-person CO2 budget according to the Paris Agreement?"
   ]
  },
  {
   "cell_type": "code",
   "execution_count": null,
   "id": "da52cba6",
   "metadata": {},
   "outputs": [],
   "source": []
  },
  {
   "cell_type": "markdown",
   "id": "a2882866",
   "metadata": {},
   "source": [
    "#### d. What is Denmark's CO2 budget according to the Paris Agreement?"
   ]
  },
  {
   "cell_type": "code",
   "execution_count": null,
   "id": "cd20a8bc",
   "metadata": {},
   "outputs": [],
   "source": []
  },
  {
   "cell_type": "markdown",
   "id": "e792a0f0",
   "metadata": {},
   "source": [
    "## 3. Emissions intensity\n",
    "\n",
    "For these questions, use data from Electricity Maps:\n",
    "https://app.electricitymaps.com/map/72h/hourly \n",
    "\n",
    "### 3.1 Per capita CO2 emissions.\n",
    "\n",
    "The populations of a few EU countries are:\n",
    "\n",
    "- Denmark: 5.9 million\n",
    "- Germany: 84.5 million\n",
    "- Poland: 36.7 million\n",
    "- France: 68.7 million\n",
    "\n",
    "What are the per capita CO2 emissions (in kg CO2 per person per year) in these countries over the last year due to electricity production?"
   ]
  },
  {
   "cell_type": "markdown",
   "id": "4be76201",
   "metadata": {},
   "source": [
    "### 3.2 Energy storage\n",
    "\n",
    "If you could store a MWh in Denmark from the cleanest time in the last 24 hours, and use release it at the dirtiest time in the last 24 hours, how many CO2 emissions would you save?"
   ]
  },
  {
   "cell_type": "code",
   "execution_count": null,
   "id": "509f171a",
   "metadata": {},
   "outputs": [],
   "source": []
  },
  {
   "cell_type": "markdown",
   "id": "219d20f2",
   "metadata": {},
   "source": [
    "### 3.3 Energy trading\n",
    "\n",
    "#### a. Optimal selling time\n",
    "What would be the best time in the last 72 hours for France to produce an extra MWh to Germany to reduce emissions?"
   ]
  },
  {
   "cell_type": "code",
   "execution_count": null,
   "id": "1427f9e1",
   "metadata": {},
   "outputs": [],
   "source": []
  },
  {
   "cell_type": "markdown",
   "id": "0e9ea0fb",
   "metadata": {},
   "source": [
    "#### b. Emissions reductions from energy trade\n",
    "How much CO2 emissions would be saved by that 1 MWh trade?"
   ]
  },
  {
   "cell_type": "code",
   "execution_count": null,
   "id": "490016d6",
   "metadata": {},
   "outputs": [],
   "source": []
  }
 ],
 "metadata": {
  "kernelspec": {
   "display_name": "Python 3 (ipykernel)",
   "language": "python",
   "name": "python3"
  },
  "language_info": {
   "codemirror_mode": {
    "name": "ipython",
    "version": 3
   },
   "file_extension": ".py",
   "mimetype": "text/x-python",
   "name": "python",
   "nbconvert_exporter": "python",
   "pygments_lexer": "ipython3",
   "version": "3.11.5"
  }
 },
 "nbformat": 4,
 "nbformat_minor": 5
}
