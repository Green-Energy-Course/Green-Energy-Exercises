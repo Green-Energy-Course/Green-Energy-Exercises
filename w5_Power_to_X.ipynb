{
 "cells": [
  {
   "cell_type": "markdown",
   "id": "0d2f34b8",
   "metadata": {},
   "source": [
    "# Exercises week 5: Power-to-X\n",
    "\n",
    "## units with pint\n",
    "\n",
    "As recommended, the package `pint` is quite good for dealing with units. "
   ]
  },
  {
   "cell_type": "code",
   "execution_count": null,
   "id": "55a489be",
   "metadata": {},
   "outputs": [],
   "source": [
    "from pint import UnitRegistry\n",
    "\n",
    "\n",
    "u = UnitRegistry()"
   ]
  },
  {
   "cell_type": "markdown",
   "id": "7aab2075-7f7e-464e-afb8-0c075f0ac478",
   "metadata": {},
   "source": [
    "## Thermodynamic calculations with gases\n",
    "\n",
    "Throughout the excercises, assume that all gases are ideal and follow $pV = nRT$\n",
    "\n",
    "Here we put units on the gas constant:"
   ]
  },
  {
   "cell_type": "code",
   "execution_count": null,
   "id": "7e26eed2-1965-48cd-93f9-3a09e7bf8efe",
   "metadata": {},
   "outputs": [],
   "source": [
    "from scipy.constants import R\n",
    "\n",
    "\n",
    "R = R * u(\"J/mol/K\")\n",
    "print(R)"
   ]
  },
  {
   "cell_type": "markdown",
   "id": "ddabc979",
   "metadata": {},
   "source": [
    "## 1. Reverse water gas shift\n",
    "\n",
    "The reverse water gas shift reaction (RWGS) to produce syngas from H2 and CO2 is a key part of methanol synthesis and sustainable aviation fuel synthesis.\n",
    "\n",
    "CO2 + H2 --> CO + H2O\n",
    "\n",
    "\n",
    "### 1.1 Temperature-dependent equilibrium\n",
    "\n",
    "#### 1.1.a Calculate $\\Delta H^\\circ$ and $\\Delta S^\\circ$ for the reaction.\n",
    "\n",
    "Use the gas-phase thermochemistry data for the reactants and products from the [NIST Chemistry Webbook](https://webbook.nist.gov/chemistry/) (note that we should probably make a European version ASAP before NIST disappears...)"
   ]
  },
  {
   "cell_type": "code",
   "execution_count": null,
   "id": "e131a610",
   "metadata": {},
   "outputs": [],
   "source": []
  },
  {
   "cell_type": "markdown",
   "id": "c020cfd4",
   "metadata": {},
   "source": [
    "$\\Delta H$ and $\\Delta S$ are especially useful for describing the effect of temperature on equilibrium. The equations to use are\n",
    "\n",
    "$\\Delta G^\\circ(T) = \\Delta H^\\circ - T \\Delta S^\\circ$ \n",
    "\n",
    "for the reaction free energy change (note that this is an approximation, as actually $\\Delta H$ and $\\Delta S$ themselves change slightly with temperature; and\n",
    "\n",
    "$K = \\exp\\left(-\\frac{\\Delta G}{RT}\\right)$\n",
    "\n",
    "for the equilibrium constant.\n",
    "\n",
    "#### 1.1.b Write an expression relating the partial pressures of H2, CO2, CO, and H2O\n",
    "\n",
    "Use the equilibrium constant!"
   ]
  },
  {
   "cell_type": "markdown",
   "id": "daab625c",
   "metadata": {},
   "source": [
    "______."
   ]
  },
  {
   "cell_type": "markdown",
   "id": "2c86148f",
   "metadata": {},
   "source": [
    "#### 1.1.c Calculate $\\Delta G$ and the equilibrium constant $K$ at $T_1=250^\\circ$ C and $T_2=750^\\circ$."
   ]
  },
  {
   "cell_type": "code",
   "execution_count": null,
   "id": "31310b89",
   "metadata": {},
   "outputs": [],
   "source": []
  },
  {
   "cell_type": "markdown",
   "id": "25b7aee2",
   "metadata": {},
   "source": [
    "#### 1.1.d RWGS reactor model\n",
    "\n",
    "A common reacter model is the [continuous-stirred tank reactor](https://en.wikipedia.org/wiki/Continuous_stirred-tank_reactor) (CSTR), which assumes that inputs mix instantly and the output has the same composition (partial pressures for a gas) as the composition of the mixture in the reactor. \n",
    "\n",
    "We will further assume that the reactor is full of very good catalysts, i.e. that the gases instantly equilibrate.\n",
    "\n",
    "We'll assume that the input gas is equal parts H2 and CO2, and that the reactor pressure is 20 bar.\n",
    "\n",
    "Explain why the following equations relating partial pressures in the reactor, must hold:\n",
    "\n",
    "eq 1.1.d1:   $p(H2) = p(CO2)$\n",
    "\n",
    "eq 1.1.d2:   $p(H2O) = p(CO)$\n",
    "\n",
    "eq 1.1.d3:   $p(H2) + p(CO2) + p(CO) + p(H2O) = 20$ \\[bar\\]"
   ]
  },
  {
   "cell_type": "markdown",
   "id": "145eaf02",
   "metadata": {},
   "source": [
    "___________."
   ]
  },
  {
   "cell_type": "markdown",
   "id": "bc6b6ac4",
   "metadata": {},
   "source": [
    "#### 1.1.3 What is the partial pressure of CO in the outlet at $T_1=250^\\circ$ C and $T_2=750^\\circ$ C?\n",
    "\n",
    "Use the above equations, including the equation in 1.1.b, and the values of the equilibrium constant that you calculated for 1.1.c\n",
    "\n",
    "Hint: Solve it symbolically on paper before putting numbers in!!!!"
   ]
  },
  {
   "cell_type": "code",
   "execution_count": null,
   "id": "4da071a9",
   "metadata": {},
   "outputs": [],
   "source": []
  },
  {
   "cell_type": "markdown",
   "id": "a1f17422",
   "metadata": {},
   "source": [
    "### 1.2 Can we run at lower temperature?\n",
    "\n",
    "A new development in power-to-X is moderate-temperature RWGS. It's described in this article:\n",
    "\n",
    "Xiaoti Cui and Søren K. Kær. Thermodynamic Analyses of a Moderate-Temperature Process of Carbon Dioxide Hydrogenation to Methanol via Reverse Water–Gas Shift with In Situ Water Removal. [Ind. Eng. Chem. Res. 58, 24, 10559–10569](https://doi.org/10.1021/acs.iecr.9b01312), 2019\n",
    "\n",
    "It works by utilizing a reactor with zeolite membranes, through which water can permeate but CO2, H2, and CO cannot. This technique is called *in-situ water removal*\n",
    "\n",
    "####  1.2.a\n",
    "\n",
    "What effect do you expect in-situ water removal to have on the RWGS equilibrium? Why?"
   ]
  },
  {
   "cell_type": "markdown",
   "id": "fc7a04a1",
   "metadata": {},
   "source": [
    "_____."
   ]
  },
  {
   "cell_type": "markdown",
   "id": "f113bb2b",
   "metadata": {},
   "source": [
    "#### 1.2.b Calculate the yield at $T_1=250^\\circ$ C and $T_2=750^\\circ$ C and 99\\% water removal.\n",
    "\n",
    "To represent the effect of the 99% in-situ water removal, replace eq 1.1.d2 with the following:\n",
    "\n",
    "eq. 1.2.b $p(H2O) = 0.01 \\cdot p(CO)$"
   ]
  },
  {
   "cell_type": "code",
   "execution_count": null,
   "id": "354da694-b975-4e92-b3b6-1fdd9c907d74",
   "metadata": {},
   "outputs": [],
   "source": []
  },
  {
   "cell_type": "markdown",
   "id": "69adfcbd",
   "metadata": {},
   "source": [
    "## 2 Heat integration\n",
    "\n",
    "As we calculated in class on Monday,\n",
    "\n",
    "\n",
    "### 2.1 Green ammonia with SOEC\n",
    "\n",
    "If an SOEC is run below the thermoneutral potential, i.e. with a HHV voltage efficiency above 100\\%, it requires heat in.\n",
    "\n",
    "#### 2.1.a How much heat is needed for per mol of hydrogen when running at 110\\% HHV voltage efficiency?\n",
    "\n",
    "Use the value for $\\Delta_r H^\\circ$ of water splitting from last week's exercises, and the following definition of HHV voltage effiency:\n",
    "\n",
    "$\\eta_{HHV} = \\frac{\\text{fuel heat of combustion out}}{\\text{electrical energy in}} = \\frac{\\Delta_r H^\\circ}{n \\mathcal{F} E}$\n",
    "\n",
    "Also, use the conservation of energy applied to the electrolyzer:\n",
    "\n",
    "$\\text{fuel heat of combustion out} = \\text{electrical energy in} + \\text{heat in}$\n",
    "\n",
    "Give your answer with energy per mol(H2) units."
   ]
  },
  {
   "cell_type": "code",
   "execution_count": null,
   "id": "b63171f4-a6aa-4bf3-bddb-d5247aced07e",
   "metadata": {},
   "outputs": [],
   "source": []
  },
  {
   "cell_type": "markdown",
   "id": "631664c1",
   "metadata": {},
   "source": [
    "#### 2.1.b Is the Haber Bosch heat enough to satisfy the electrolyzer heat demand?\n",
    "\n",
    "We calculated in class that for the reaction \n",
    "\n",
    "3 H2 + N2 --> 2 NH3,\n",
    "\n",
    "the standard enthalpy change is\n",
    "\n",
    "$\\Delta H^\\circ = -92 $ \\[kJ/mol\\] \\.\n",
    "\n",
    "What is the ratio of heat coming from the Haber Bosch reactor to the heat needed by the electrolyzer when it is running at $\\eta_{HHV}=110\\%?\n",
    "\n",
    "Keep in mind the stoichiometry! It's probably easiest to normalize everything to mol NH3."
   ]
  },
  {
   "cell_type": "code",
   "execution_count": null,
   "id": "ed53e6c6",
   "metadata": {},
   "outputs": [],
   "source": []
  },
  {
   "cell_type": "markdown",
   "id": "36d3ad35",
   "metadata": {},
   "source": [
    "### 2.1.c How much electricity is needed to pump this heat?\n",
    "\n",
    "Assume a perfect heat pump, i.e. one operating with the maximum coefficient of performance \n",
    "\n",
    "$\\text{COP}_\\text{max} = \\frac{T_h}{T_h - T_c}$\n",
    "\n",
    "where $T_h$ is the SOEC temperature, 700 C and $T_c$ is the H-B temperature, 250 C"
   ]
  },
  {
   "cell_type": "code",
   "execution_count": null,
   "id": "f6cb702b",
   "metadata": {},
   "outputs": [],
   "source": []
  },
  {
   "cell_type": "markdown",
   "id": "8564733c",
   "metadata": {},
   "source": [
    "### 2.2 Green methanol with Alkaline\n",
    "\n",
    "What is the best possible COP for a heat pump removing waste heat from an alkaline electrolyzer (70 C) and delivering it to a RWGS reactor \n",
    "\n",
    "#### 2.2.b Without in-situ water removal, i.e. 750 C"
   ]
  },
  {
   "cell_type": "code",
   "execution_count": null,
   "id": "dc83b68f",
   "metadata": {},
   "outputs": [],
   "source": []
  },
  {
   "cell_type": "markdown",
   "id": "cb999f80",
   "metadata": {},
   "source": [
    "#### 2.2.c With in-situ water removal, i.e. 250 C"
   ]
  },
  {
   "cell_type": "code",
   "execution_count": null,
   "id": "1bc471af",
   "metadata": {},
   "outputs": [],
   "source": []
  },
  {
   "cell_type": "markdown",
   "id": "38b183dc-ad2e-418c-90ee-bbd6b2bb2f0a",
   "metadata": {},
   "source": [
    "## 3 Levelized cost of methanol\n",
    "\n",
    "\n",
    "You are building a small green methanol plant. Use the following values to calculate the levelized cost of methanol.\n",
    "\n",
    "24 MW electrolyzer: 30 million EUR\n",
    "\n",
    "Electrolyzer effiency: 70\\%\n",
    "\n",
    "RWGS and methanol syntheis reactors: 15 million EUR\n",
    "\n",
    "Balance of plant:  15 million EUR\n",
    "\n",
    "CO2 price: 200 EUR per ton\n",
    "\n",
    "average electricity price: 30 EUR / MWh\n",
    "\n",
    "Plant lifetime: 30 years"
   ]
  },
  {
   "cell_type": "code",
   "execution_count": null,
   "id": "00884892-d259-4d2a-be9d-948cdb741aa7",
   "metadata": {},
   "outputs": [],
   "source": []
  }
 ],
 "metadata": {
  "kernelspec": {
   "display_name": "Python 3 (ipykernel)",
   "language": "python",
   "name": "python3"
  },
  "language_info": {
   "codemirror_mode": {
    "name": "ipython",
    "version": 3
   },
   "file_extension": ".py",
   "mimetype": "text/x-python",
   "name": "python",
   "nbconvert_exporter": "python",
   "pygments_lexer": "ipython3",
   "version": "3.11.5"
  }
 },
 "nbformat": 4,
 "nbformat_minor": 5
}
