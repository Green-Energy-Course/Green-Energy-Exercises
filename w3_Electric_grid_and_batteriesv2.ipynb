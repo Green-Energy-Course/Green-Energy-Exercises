{
 "cells": [
  {
   "cell_type": "markdown",
   "id": "7aab2075-7f7e-464e-afb8-0c075f0ac478",
   "metadata": {},
   "source": [
    "# Exercises week 3\n",
    "\n",
    "## units with pint\n",
    "\n",
    "As recommended, the package `pint` is quite good for dealing with units. "
   ]
  },
  {
   "cell_type": "code",
   "execution_count": null,
   "id": "7e26eed2-1965-48cd-93f9-3a09e7bf8efe",
   "metadata": {},
   "outputs": [],
   "source": [
    "from pint import UnitRegistry\n",
    "\n",
    "u = UnitRegistry()"
   ]
  },
  {
   "cell_type": "markdown",
   "id": "bc6b6ac4",
   "metadata": {},
   "source": [
    "## 1. The electric grid\n",
    "\n",
    "### 1.1 Power loss in a cable\n",
    "\n",
    "A computer that requires 100 W is connected to a generator via a cable with a resistance of 0.33 Ω. \n",
    "\n",
    "- What is the power loss for a voltage of 12 V in the cable? \n",
    "\n",
    "- How does the power loss change when the voltage in the cable is increased to 120 V or decreased to 3 V? \n",
    "\n",
    "- What are the power losses in percent for the different voltages?"
   ]
  },
  {
   "cell_type": "code",
   "execution_count": null,
   "id": "4da071a9",
   "metadata": {},
   "outputs": [],
   "source": []
  },
  {
   "cell_type": "markdown",
   "id": "f113bb2b",
   "metadata": {},
   "source": [
    "### 1.2 Transmission line resistance\n",
    "\n",
    "The resistance of a transmission line conductor is the most important cause of power loss in a transmission line. The resistance R depends on the length l, cross-section Area A, and resistivity ρ according to the equation: R= ρ*l/A\n",
    "\n",
    "- What is the resistance of a 1 km Cu wire with a diameter of 5 mm?\n",
    "\n",
    "- Which diameter is required for a 1 km aluminum wire to have the same resistance as the copper wire?\n",
    "\n",
    "- How much do the two wires weigh?\n"
   ]
  },
  {
   "cell_type": "code",
   "execution_count": null,
   "id": "354da694-b975-4e92-b3b6-1fdd9c907d74",
   "metadata": {},
   "outputs": [],
   "source": []
  },
  {
   "cell_type": "markdown",
   "id": "69adfcbd",
   "metadata": {},
   "source": [
    "#### 1.3 Temperature dependence of transmission line resistance\n",
    "The resistivity circa increases linearly with temperature, and can be estimated by this formula:\n",
    "ρ(T) = ρ0 [1 + α(T-T0)]\n",
    "\n",
    "- Calculate the resistivity of Cu and Al at 50- and 70 °C.\n",
    "\n",
    "- How much does the resistance of 1 km Cu and Al wires (each with 5 mm diameter) increase when T increases from 20 to 50 and 70 °C?\n",
    "\n",
    "| metal | resistivity at 20 °C / Ωm | temperature coefficient α / K^-1 | Density / g/cm^3 |\n",
    "| :- | :- | :- | :- |\n",
    "|Aluminum |\t2.65 *10^-8 | 4.0 *10^-3 | 2.64 |\n",
    "|Copper\t| 1.68 *10^-8 |\t3.9 *10^-3\t| 8.91 |\n"
   ]
  },
  {
   "cell_type": "code",
   "execution_count": null,
   "id": "b63171f4-a6aa-4bf3-bddb-d5247aced07e",
   "metadata": {},
   "outputs": [],
   "source": []
  },
  {
   "cell_type": "markdown",
   "id": "38b183dc-ad2e-418c-90ee-bbd6b2bb2f0a",
   "metadata": {},
   "source": [
    "### 1.4 Step-up transformer\n",
    "\n",
    "The voltage of a laptop is 19 V, with a power consumprtion of 50 W. A step-down transform is required to convert the voltage from the 230 V low voltage grid.\n",
    "\n",
    "- Which ratio of turns $N_{in}$ / $N_{out}$  are needed in the coils of the transformer.\n",
    "  \n",
    "- Which current flows through the laptop?\n",
    "\n",
    "- What is the current in the grid?"
   ]
  },
  {
   "cell_type": "code",
   "execution_count": null,
   "id": "00884892-d259-4d2a-be9d-948cdb741aa7",
   "metadata": {},
   "outputs": [],
   "source": []
  },
  {
   "cell_type": "markdown",
   "id": "d4544328",
   "metadata": {},
   "source": [
    "## 2. Energy storage in batteries\n",
    "\n",
    "### 2.1 Electrochemical capacity of metal anodes\n",
    "\n",
    "Calculate the Electrochemical capacity (in [Ah/$g_{metal}$]) of Li, Na, and Mg metal anodes. \n",
    "Use the Faraday constant F = 96485 A*s/mol; and molar weights $M_{Li}$ = 6.94 g/mol, $M_{Na}$ = 22.99 g/mol, $M_{Mg}$ = 24.31 g/mol. \n",
    "\n"
   ]
  },
  {
   "cell_type": "code",
   "execution_count": null,
   "id": "da52cba6",
   "metadata": {},
   "outputs": [],
   "source": []
  },
  {
   "cell_type": "markdown",
   "id": "a2882866",
   "metadata": {},
   "source": [
    "### 2.2 Cell voltages of Lithium sulfide batteries \n",
    "\n",
    "The standard free-energy change ΔG° of a battery cell reaction with all solid reactants can be calculated from the standard free energies of formation $ΔG°_{f}$ of the reactants and products by the following equation:\n",
    "\n",
    "∆G°= Σ n $∆G°_{f}$ (products) - Σ m $∆G°_{f}$ (reactants) \n",
    "\n",
    "The cell voltage can then be determined as: $E_{cell}$ = - ΔG° /nF\n",
    "\n",
    "Please write down the balanced cell reaction and calculate the theoretical cell voltage of different batteries with a lithium anode and the different sulfide-based cathodes. The standard Gibbs free energies of formation $∆G°_{f}$ of the compounds can be found in the table below.\n",
    "\n",
    "| compounds | $∆G°_{f}$ (kJ/mol) |\n",
    "|:-|:-|\n",
    "|FeS|-101.96|\n",
    "|Fe$S_{2}$|-160.07|\n",
    "|$Ni_{3}$$S_{2}$|-210.39|\n",
    "|CuS|-53.47|"
   ]
  },
  {
   "cell_type": "code",
   "execution_count": null,
   "id": "cd20a8bc",
   "metadata": {},
   "outputs": [],
   "source": []
  },
  {
   "cell_type": "markdown",
   "id": "4a10e296-86ac-4f8d-aa6f-4c8cc1cf4dc4",
   "metadata": {},
   "source": [
    "### 2.3 Capacity of an electric vehicle battery \n",
    "\n",
    "The average battery capacity of a modern electric vehicle is around 70 kWh, and the average Danish household consumes approximately 13 kWh daily. \n",
    "The annual Danish electricity consumption was about 35.000.000 MWh in 2024.\n",
    "\n",
    "- How many days could one EV power the household?\n",
    "  \n",
    "- How many cars with a 70 kWh battery are required to power Denmark for one day?\n"
   ]
  },
  {
   "cell_type": "code",
   "execution_count": null,
   "id": "1427f9e1",
   "metadata": {},
   "outputs": [],
   "source": []
  }
 ],
 "metadata": {
  "kernelspec": {
   "display_name": "Python 3 (ipykernel)",
   "language": "python",
   "name": "python3"
  },
  "language_info": {
   "codemirror_mode": {
    "name": "ipython",
    "version": 3
   },
   "file_extension": ".py",
   "mimetype": "text/x-python",
   "name": "python",
   "nbconvert_exporter": "python",
   "pygments_lexer": "ipython3",
   "version": "3.11.5"
  }
 },
 "nbformat": 4,
 "nbformat_minor": 5
}
