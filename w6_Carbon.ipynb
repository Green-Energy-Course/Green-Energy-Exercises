{
 "cells": [
  {
   "cell_type": "code",
   "execution_count": 1,
   "id": "a4328cef-704c-482c-8de5-4dabe785a0f5",
   "metadata": {},
   "outputs": [],
   "source": [
    "from pint import UnitRegistry\n",
    "\n",
    "u = UnitRegistry()"
   ]
  },
  {
   "cell_type": "markdown",
   "id": "06ac3e3e-7110-41b1-bdf6-04cd0c6c7f92",
   "metadata": {},
   "source": [
    "# 1. Does Denmark have enough biogenic CO2 for PtX?\n",
    "\n",
    "According to EU regulations, a synthetic carbon-based fuel is only green if the source of the carbon is *biogenic*. The thinking is that, since the carbon ends up as CO2 in the atmosphere, it has to have started as CO2 in the atmosphere for the synthesis and use of the fuel to be a closed cycle. \n",
    "\n",
    "The question then is whether the amount of carbon available is sufficient to meet Denmark's coming power-to-X needs. \n",
    "\n",
    "## 1.1 E-fuel for Copenhagen Airport\n",
    "\n",
    "In week 1, as a step in Exercise 1.2.d, we calculated that Copenhagen airport uses about 1 million cubic meters of jet fuel per year. \n",
    "Given that jeg fuel weighs about 800 g/l and has the approximate molecular formula C10H22, what is the mass per year of CO2 needed as input to a Fischer-Tropsch synthesis to produce this fuel?"
   ]
  },
  {
   "cell_type": "code",
   "execution_count": null,
   "id": "0e7305f6-8508-445f-9dc5-5e22bf2374a6",
   "metadata": {},
   "outputs": [],
   "source": [
    "1.1 "
   ]
  }
 ],
 "metadata": {
  "kernelspec": {
   "display_name": "Python 3 (ipykernel)",
   "language": "python",
   "name": "python3"
  },
  "language_info": {
   "codemirror_mode": {
    "name": "ipython",
    "version": 3
   },
   "file_extension": ".py",
   "mimetype": "text/x-python",
   "name": "python",
   "nbconvert_exporter": "python",
   "pygments_lexer": "ipython3",
   "version": "3.11.7"
  }
 },
 "nbformat": 4,
 "nbformat_minor": 5
}
