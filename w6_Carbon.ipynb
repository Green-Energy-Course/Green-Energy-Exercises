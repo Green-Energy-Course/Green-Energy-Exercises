{
 "cells": [
  {
   "cell_type": "markdown",
   "id": "66f42d0d",
   "metadata": {},
   "source": [
    "We recommend using `pint` to help with units:"
   ]
  },
  {
   "cell_type": "code",
   "execution_count": null,
   "id": "a4328cef-704c-482c-8de5-4dabe785a0f5",
   "metadata": {},
   "outputs": [],
   "source": [
    "from pint import UnitRegistry\n",
    "\n",
    "u = UnitRegistry()"
   ]
  },
  {
   "cell_type": "markdown",
   "id": "64e2b2ce-6eb2-4e51-b8a6-58db6607ad91",
   "metadata": {},
   "source": [
    "# Intro\n",
    "\n",
    "These exercises, the last of the course, involve quantifying what we expect to be the main CO2 sources and sinks in Denmark. They involve an implicit assumption that centralized point sources of CO2 can be captured, but that direct air capture will not play a role. \n",
    "\n",
    "These exercises unfortunately don't get into the thermodynamics and costs of the technologies like we did last week - sorry. We'll briefly cover thermoeconomics of CO2 capture on Friday.\n",
    "\n",
    "\n",
    "# 1. How much biogenic CO2 would Denmark need for self-sufficiency by PtX?\n",
    "\n",
    "According to EU regulations, a synthetic carbon-based fuel is only green if the source of the carbon is *biogenic*. The thinking is that, since the carbon ends up as CO2 in the atmosphere, it has to have started as CO2 in the atmosphere for the synthesis and use of the fuel to be a closed cycle. \n",
    "\n",
    "The question then is whether the amount of carbon available is sufficient to meet Denmark's coming power-to-X needs. \n",
    "\n",
    "## 1.1 CO2 for Denmark's SAF\n",
    "\n",
    "Let's us the approximate formula of C10H22 for jet fuel. Green jet fuel is jet fuel made from green H2 and biogenic CO2 via reverse water-gas shift and Fischer Tropsch synthesis.\n",
    "\n",
    "### 1.1.a Write a balanced overall reaction for making green jet fuel."
   ]
  },
  {
   "cell_type": "markdown",
   "id": "194d9288-e80d-4805-b3eb-f8b7e014c689",
   "metadata": {},
   "source": [
    "__________ ."
   ]
  },
  {
   "cell_type": "markdown",
   "id": "2492f46f-1531-46a6-9a1d-61de42e87ee5",
   "metadata": {},
   "source": [
    "In week 1, as a step in Exercise 1.2.d, we estimated the energy passing through copenhagen airport as jet fuel. We probably underestimated by assuming that Copenhagen --> London represented the average flight. Now we'll try another way.\n",
    "\n",
    "The total jet fuel consumption in 2023 in Denmark according to [theglobaleconomy.com](https://www.theglobaleconomy.com/Denmark/jet_fuel_consumption/) was 19.2 thousand barrels per day. A barrel is an archaic unit of volume for fuels equal to 159 liters. The density of jet fuel is 800 g per liter. \n",
    "\n",
    "### 1.1.b What is the mass of jet fuel consumed in Denmark per year?"
   ]
  },
  {
   "cell_type": "code",
   "execution_count": null,
   "id": "0e7305f6-8508-445f-9dc5-5e22bf2374a6",
   "metadata": {},
   "outputs": [],
   "source": []
  },
  {
   "cell_type": "markdown",
   "id": "413f350a-ddc0-43b5-86d8-b40fd6f59f14",
   "metadata": {},
   "source": [
    "### 1.1.c As a sanity check, what average power does that fuel consumption correspond to? \n",
    "\n",
    "Use the energy density of jet fuel that you calculated in week 1: 13.1 kWh/kg or 9.6 kWh/l.\n",
    "\n",
    "Compare your answer to that for Copenhagen airport from week 1."
   ]
  },
  {
   "cell_type": "code",
   "execution_count": null,
   "id": "ad3d21fc-4e3b-4804-bf24-dd73995a14ab",
   "metadata": {},
   "outputs": [],
   "source": []
  },
  {
   "cell_type": "markdown",
   "id": "9a0e3019-f8c7-4e88-90f4-59e539f167d8",
   "metadata": {},
   "source": [
    "### 1.1.d How much CO2 per year would be needed for green synthesis of all of Denmark's jet fuel?\n",
    "\n",
    "Use the stoichiometry in 1.1.a and your anser in 1.1.b. Give an answer in mass of CO2 per year"
   ]
  },
  {
   "cell_type": "code",
   "execution_count": null,
   "id": "951f7e4e-9b94-471f-b9d0-9e7d179c334f",
   "metadata": {},
   "outputs": [],
   "source": []
  },
  {
   "cell_type": "markdown",
   "id": "9244025e-5979-4357-ae45-9725c3652a51",
   "metadata": {},
   "source": [
    "## 1.2 CO2 for Denmark's shipping fuel\n",
    "\n",
    "This is proving hard to find straightforward data on, so I am making a lot of assumptions, which we will go through one by one. If you find better data or think of a better way to calculate the CO2 demand of Denmark's future shipping fuel, please go for it and share it! :) \n",
    "\n",
    "Let's assume for now that Maersk's decision to use methanol holds. (This is not a given; NH3 remains a competitor in the long term.)\n",
    "\n",
    "Green methanol is made from electrolysis H2 and biogenic CO2 via reverse water gas shift and methanol synthesis from syn gas. \n",
    "\n",
    "### 1.2.a Write a balanced overall reaction for making green methanol"
   ]
  },
  {
   "cell_type": "markdown",
   "id": "162459ca-875d-46c1-ae81-ddf2c4ac4769",
   "metadata": {},
   "source": [
    "____________."
   ]
  },
  {
   "cell_type": "code",
   "execution_count": null,
   "id": "e69a7b08-6a70-48f4-bfe1-afbf9badd8cb",
   "metadata": {},
   "outputs": [],
   "source": []
  },
  {
   "cell_type": "markdown",
   "id": "098a578f-9df1-4b5a-9f38-9824a17d53da",
   "metadata": {},
   "source": [
    "### 1.2.b Calculate the present CO2 emissions due to Denmark's shipping demand\n",
    "\n",
    "The total amount of goods transported by ship to/from Danish ports in 2024 was about 80 million tons according to [Statistics Denmark](https://www.dst.dk/en/Statistik/emner/transport/godstransport/godstransport-med-skib). We'll assume that half of that is on ships departing Denmark and refuelling in Denmark.\n",
    "\n",
    "We'll also assume that the average distance travelled by those goods corresponds to a transatlantic journey from Esbjerg to New York. That's 6000 km. (Ships to elsewhere in Europe will travel much less distance, whereas ships to asia will travel more)\n",
    "\n",
    "Shipping CO2 emissions today are about 15 grams CO2 per ton of goods per km (see, e.g. [European Environment Agency](https://www.eea.europa.eu/en/analysis/maps-and-charts/specific-co2-emissions-per-tonne-2-daviz))\n",
    "\n",
    "Give your answer in tons CO2 per year."
   ]
  },
  {
   "cell_type": "code",
   "execution_count": null,
   "id": "a9a700c8-fa2e-4fb3-813e-e9b578b38b25",
   "metadata": {},
   "outputs": [],
   "source": []
  },
  {
   "cell_type": "markdown",
   "id": "5405d587-8be8-4510-9ae9-1034381b214d",
   "metadata": {},
   "source": [
    "### 1.2.c Calculate the fuel energy needed\n",
    "\n",
    "The present shipping fuel is diesel, which is about 86% carbon by mass and has an energy density similar to kerosene of 45 MJ/kg or 13 kWh/l\n",
    "\n",
    "What is the energy content of the fuel needed to satisfy one year of Denmark's shipping demand?"
   ]
  },
  {
   "cell_type": "code",
   "execution_count": null,
   "id": "d9e51d40-59dc-4ea2-abea-2c543b9b9f63",
   "metadata": {},
   "outputs": [],
   "source": []
  },
  {
   "cell_type": "markdown",
   "id": "5bd77577-06a9-4ef3-9b64-737997c42707",
   "metadata": {},
   "source": [
    "### 1.2.d Calculate the corresponding average power\n",
    "\n",
    "\n",
    "Is it more or less than the average power of all the fuel going into planes departing Denmark?"
   ]
  },
  {
   "cell_type": "code",
   "execution_count": null,
   "id": "ceab69df-5c2b-4ea6-be2f-0ffa9d01b167",
   "metadata": {},
   "outputs": [],
   "source": []
  },
  {
   "cell_type": "markdown",
   "id": "87ae7083-fd81-4534-9a67-43bb8ac9ee9c",
   "metadata": {},
   "source": [
    "### 1.2.e Calculate the mass of methanol needed per year to provide the shipping fuel energy\n",
    "\n",
    "Use your answer from 1.2.c and the energy density of methanol that you calculated in week 1: 22 MJ/kg, or 6.1 kWh/kg.\n",
    "\n",
    "Give your answer as a mass of CO2 per year."
   ]
  },
  {
   "cell_type": "code",
   "execution_count": null,
   "id": "343bf8c7-f2fb-4270-8351-8404fce3306f",
   "metadata": {},
   "outputs": [],
   "source": []
  },
  {
   "cell_type": "markdown",
   "id": "d4b2d6fe-98ee-446d-9541-81145a3f1543",
   "metadata": {},
   "source": [
    "### 1.2.f Calculate the mass of CO2 needed to make that methanol\n",
    "\n",
    "Use the stoichiometry from 1.2.a and your answer to 1.2.e\n",
    "\n",
    "To restate the numbers and assumptions used to get to this number: \n",
    "- 15 grams of CO2 per ton goods per km coming from diesel combustion\n",
    "- The energy consumption for green methanol fuel will be the same as it is for diesel fuel\n",
    "- 80 million tons to/from Denmark, half of it carried by Danish fuel\n",
    "- 6000 km average transport distance"
   ]
  },
  {
   "cell_type": "code",
   "execution_count": null,
   "id": "c5b52f17-82a6-4456-8e05-d1c47f76e4bb",
   "metadata": {},
   "outputs": [],
   "source": []
  },
  {
   "cell_type": "markdown",
   "id": "36a5e312-d3a8-444c-a2e0-229c35ededfa",
   "metadata": {},
   "source": [
    "## 1.3 CO2 for Denmark's plastic\n",
    "\n",
    "Danes use on average 35 kg plastic per year according to [Green Transition Denmark](https://rgo.dk/en/focus-area/stop-plastic-pollution/)\n",
    "\n",
    "We'll make the rough approximation that this plastic is polyethylene, (CH$_2$)$_n$.\n",
    "\n",
    "The monomer for polyethylene is ethylene, C2H4.\n",
    "\n",
    "### 1.3.a Write a balanced cell reaction for synthesis of ethylene from CO2 and water.\n",
    "\n",
    "This can be acheived in a CO2 electrolysis cell, where the half reactions are oxygen evolution at the anode and CO2 reduction at the cathode."
   ]
  },
  {
   "cell_type": "markdown",
   "id": "fac61b1b-d7e2-4bb1-ab4d-fdd3ca374eae",
   "metadata": {},
   "source": [
    "_______ ."
   ]
  },
  {
   "cell_type": "markdown",
   "id": "9b8cfb3b-594f-4fe9-afe2-b5813a77d84c",
   "metadata": {},
   "source": [
    "### 1.3.b Write a balanced reaction for the complete process of polyethylene synthesis from CO2 and water.\n",
    "\n",
    "Use the structural formula for polyethylene, (CH$_2$)$_n$, as your product - i.e., normalize the reaction to one equivalent of carbon."
   ]
  },
  {
   "cell_type": "markdown",
   "id": "e7472573-81c8-487e-99af-d5b4d05c5855",
   "metadata": {},
   "source": [
    "_______ ."
   ]
  },
  {
   "cell_type": "markdown",
   "id": "ee88c3b4-4365-42ee-acca-3cc76bfa38d0",
   "metadata": {},
   "source": [
    "### 1.3.c Calculate the mass of CO2 needed to make that plastic.\n",
    "\n",
    "Use the stoichiometry in 1.3.b, 35 kg polyethylene per Dane, and 6 million for Denmark's population.\n",
    "\n",
    "(We're implicitly assuming here that none of the plastic is from recycled material, which hopefully *isn't* true, and that the end-of-life is inceneration for district heat rather than landfill, which hopefully *is* true.)\n",
    "\n",
    "Give your answer as a mass of CO2 per year."
   ]
  },
  {
   "cell_type": "code",
   "execution_count": null,
   "id": "96e65576-cf96-48b8-82cd-c1878f81e5c7",
   "metadata": {},
   "outputs": [],
   "source": []
  },
  {
   "cell_type": "markdown",
   "id": "73696f4d-9154-412f-94a1-fe1af6f2c6ee",
   "metadata": {},
   "source": [
    "# 2. How much CO2 can be captured in Denmark?"
   ]
  },
  {
   "cell_type": "markdown",
   "id": "957bce22-3359-4e4e-9030-234316f9fdbb",
   "metadata": {},
   "source": [
    "## 2.1 Biogenic CO2 from biogas\n",
    "\n",
    "According to [Energinet](https://en.energinet.dk/media/slybe41z/danish-biomethane-experiences.pdf), Denmark will produce about **15 TWh of biomethene** per year by around 2030, exceding the total domestic methane consumption.\n",
    "\n",
    "### 2.1.a What mass of biomethane does this correspond to?\n",
    "\n",
    "Use the energy density of methane of 14.2 KWh/kg calculated in week 1."
   ]
  },
  {
   "cell_type": "code",
   "execution_count": null,
   "id": "29321c42-4df3-4a4e-819f-c13a5d7a1ccf",
   "metadata": {},
   "outputs": [],
   "source": []
  },
  {
   "cell_type": "markdown",
   "id": "8a7a5423-6a18-43a9-b369-059beeca87b1",
   "metadata": {},
   "source": [
    "### 2.1.b What mass of biogenic CO2 is produced as a biproduct?\n",
    "\n",
    "As we showed in class, the redox balance of carbohydrate fermentation leads the molar ratio of methane to CO2 in raw biogas of approximately 1 to 1.\n",
    "\n",
    "Give your answer as a mass of CO2 per year."
   ]
  },
  {
   "cell_type": "code",
   "execution_count": null,
   "id": "41667531-e80d-4556-96d9-88dfc7ba84be",
   "metadata": {},
   "outputs": [],
   "source": []
  },
  {
   "cell_type": "markdown",
   "id": "6344a5db",
   "metadata": {},
   "source": [
    "Wait a second, the biomethane in biogas is also a source of biogenic CO2! Today, a lot of methane consumption is still for heating houses, which makes catching the CO2 not feasible. However, gas boilers are on their way out in preference for heat pumps and district heating. This frees up biogas to be used for centralized combined-heat-and-power plants when the wind is not blowing. There, the CO2 can be captured and used for PtX.\n",
    "\n",
    "### 2.1.c What is the mass of biogenic CO2 is produced when biomethane is consumed?\n",
    "\n",
    "Give the answer as a mass of carbon per year."
   ]
  },
  {
   "cell_type": "code",
   "execution_count": null,
   "id": "952211a2",
   "metadata": {},
   "outputs": [],
   "source": []
  },
  {
   "cell_type": "markdown",
   "id": "9943d3f7-79c4-46e3-9245-bb8d6e201b40",
   "metadata": {},
   "source": [
    "# 2.2 Biogenic CO2 from waste incineration\n",
    "\n",
    "Denmark incinerates about 2 million tons of waste a year according to the [European Environmental Agency](https://www.google.com/url?sa=t&source=web&rct=j&opi=89978449&url=https://www.eea.europa.eu/publications/many-eu-member-states/denmark&ved=2ahUKEwjiw_aazoGMAxXSIxAIHduBCKIQFnoECBUQAw&usg=AOvVaw1B_H5-R0JZaNuB8nbvYEUK), producing about 40 PJ per year of energy, mainly in the form of district heat.\n",
    "\n",
    "This waste is about 50\\% carbon by mass and about 50\\% biomass. \n",
    "\n",
    "## 2.2.a What is the total mass of CO2 produced at waste incineration plants in Denmark?\n",
    "\n",
    "Assume all the carbon in the waste ends as CO2. \n",
    "\n",
    "Give your answer as a mass of CO2 per year."
   ]
  },
  {
   "cell_type": "code",
   "execution_count": null,
   "id": "5fbc6a16-acf5-4669-92b3-6a4da1affb54",
   "metadata": {},
   "outputs": [],
   "source": []
  },
  {
   "cell_type": "markdown",
   "id": "d002079a-4b5f-4511-a625-9cc85522078c",
   "metadata": {},
   "source": [
    "### 2.2.b What is the mass of *biogenic* CO2 produced at waste incineration plants in Denmark?\n",
    "\n",
    "This matters only for accounting reasons. I guess a mass of CO2 corresponding the *non-biogenic* portion of CO2 captured at waste incineration plants would have to be sequestered (for example sent to Northern Lights in Norway to be pumped underground) for the rest to be counted as a green CO2 stream.\n",
    "\n",
    "Give your answer as a mass of CO2 per year."
   ]
  },
  {
   "cell_type": "code",
   "execution_count": null,
   "id": "b85a2585-4917-45e9-953b-1b5e43eb1eed",
   "metadata": {},
   "outputs": [],
   "source": []
  },
  {
   "cell_type": "markdown",
   "id": "f593a260-27e9-4375-8c8d-06ce46a40917",
   "metadata": {},
   "source": [
    "## 2.3 Biogenic CO2 from wood incineration\n",
    "\n",
    "A dirty secret of the Danish energy transition is that a large portion of our electricity and heat comes from incineration of imported wood pellets. For a discussion on the sustainability of this practice, see, for example:\n",
    "\n",
    "- Sterman, 2018. Does replacing coal with wood lower CO2 emissions? Dynamic lifecycle analysis of wood bioenerg. http://dx.doi.org/10.1088/1748-9326/aaa512\n",
    "- LETTER FROM SCIENTISTS TO THE EU PARLIAMENT REGARDING FOREST BIOMASS. https://www.pfpi.net/wp-content/uploads/2018/04/UPDATE-800-signatures_Scientist-Letter-on-EU-Forest-Biomass.pdf\n",
    "\n",
    "In any case, wood is burned for heat in power in Denmark today, and it's hard to argue that at least the CO2 that comes out is *biogenic*. \n",
    "\n",
    "### 2.3.a What is the mass of CO2 produced from wood incineration in Denmark?\n",
    "\n",
    "Denmark consumed 44 PJ of primary energy from wood in 2023 according to [Energistyrrelsen](https://ens.dk/analyser-og-statistik/maanedlig-og-aarlig-energistatistik). Dry wood is about 50\\% carbon by mass and has a calorific value of 19.2 GJ/ton [woodenergy.ie](http://www.woodenergy.ie/frequentlyaskedquestions).\n",
    "\n",
    "Give your answer as a mass of CO2 per year."
   ]
  },
  {
   "cell_type": "code",
   "execution_count": null,
   "id": "47e19a58",
   "metadata": {},
   "outputs": [],
   "source": []
  },
  {
   "cell_type": "markdown",
   "id": "d1530196",
   "metadata": {},
   "source": [
    "## 2.5 Non-biogenic CO2 from cement\n",
    "\n",
    "Denmark has a sizeable cement production of 3 million tons per year run by the company [Aalborg Portland](https://aalborgportlandholding.com/en/who-we-are/global-presence/denmark#:~:text=Cement,and%200.9%20million%20white%20cement.).\n",
    "\n",
    "This cement is white portland, wich is about 65% lime (CaO) by mass. It is produced from limestone (CaCO3) in a process that releases stoichiometric CO2, even if all of the energy input is provided by renewable electricity.\n",
    "\n",
    "### 2.5.a Write the balanced chemical reaction for production of lime from limestone."
   ]
  },
  {
   "cell_type": "markdown",
   "id": "1af619dd",
   "metadata": {},
   "source": [
    "______ ."
   ]
  },
  {
   "cell_type": "markdown",
   "id": "c0810b05",
   "metadata": {},
   "source": [
    "### 2.5.b Calculate the mass of CO2 produced by Aalborg Portland\n",
    "\n",
    "This is *non-biogenic* CO2 and would not be counted as \n",
    "\n",
    "Give your answer as a mass of CO2 per year."
   ]
  },
  {
   "cell_type": "code",
   "execution_count": null,
   "id": "6355e2fa",
   "metadata": {},
   "outputs": [],
   "source": []
  },
  {
   "cell_type": "markdown",
   "id": "16bc9481",
   "metadata": {},
   "source": [
    "# 3 Denmark's net point-source CO2 balance\n",
    "\n",
    "The above expected future CO2 sources and sinks don't capture:\n",
    "\n",
    "- Continued fossil fuel burning for energy. Right now, Denmark still gets most of its transport energy and about 15% of its electrical energy from fossil fuels. This is expected to be phased out.\n",
    "- Agriculture and land use change. As we learned from the guest lecture, the Land Use Green Transition Agreement (\"Grøn Trepart\"), whatever its flaws, is expected by the Danish Climate Council to stabilize this.\n",
    "- Import. As we learned from another guest lecture, Denmark's domestic CO2 emissions are 6 ton CO2/person/year, whereas the number goes up to 15 ton CO2/person/year when including the footprint of all imports.\n",
    "\n",
    "Nonetheless, the above numbers give a sense of a future national domestic carbon balance.\n",
    "\n",
    "## 3.1 Will there be enough biogenic CO2 to make Denmark self-sufficient in green fuel and plastic?"
   ]
  },
  {
   "cell_type": "code",
   "execution_count": null,
   "id": "7bb0e832",
   "metadata": {},
   "outputs": [],
   "source": []
  },
  {
   "cell_type": "markdown",
   "id": "9c1d6206",
   "metadata": {},
   "source": [
    "## 3.2 How much CO2 will Denmark need to sequester or export? \n",
    "\n",
    "Assume only biogenic CO2 can be used for PtX and no point-source CO2 can be released?"
   ]
  },
  {
   "cell_type": "code",
   "execution_count": null,
   "id": "a33aaa13",
   "metadata": {},
   "outputs": [],
   "source": []
  },
  {
   "cell_type": "markdown",
   "id": "41466256",
   "metadata": {},
   "source": [
    "# 4. Above and beyond: Calculate the corresponding carbon balance for another country.\n",
    "\n",
    "Non-Danes may be curious how the numbers look for their home countries."
   ]
  },
  {
   "cell_type": "code",
   "execution_count": null,
   "id": "db2ff9bb",
   "metadata": {},
   "outputs": [],
   "source": []
  }
 ],
 "metadata": {
  "kernelspec": {
   "display_name": "Python 3 (ipykernel)",
   "language": "python",
   "name": "python3"
  },
  "language_info": {
   "codemirror_mode": {
    "name": "ipython",
    "version": 3
   },
   "file_extension": ".py",
   "mimetype": "text/x-python",
   "name": "python",
   "nbconvert_exporter": "python",
   "pygments_lexer": "ipython3",
   "version": "3.11.5"
  }
 },
 "nbformat": 4,
 "nbformat_minor": 5
}
