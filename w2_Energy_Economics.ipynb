{
 "cells": [
  {
   "cell_type": "markdown",
   "id": "31c086e3",
   "metadata": {},
   "source": [
    "# Exercises week 2\n",
    "\n",
    "## units with pint\n",
    "We recommend using `pint` for units, as in week 1."
   ]
  },
  {
   "cell_type": "code",
   "execution_count": null,
   "id": "b0d63682",
   "metadata": {},
   "outputs": [],
   "source": [
    "from pint import UnitRegistry\n",
    "\n",
    "\n",
    "u = UnitRegistry()"
   ]
  },
  {
   "cell_type": "markdown",
   "id": "678e41b6",
   "metadata": {},
   "source": [
    "## 1. Emissions calculations for electricity generation\n",
    "\n",
    "### 1.1 Direct emissoins from steel, cement, and silicon\n",
    "\n",
    "#### a. Steel\n",
    "\n",
    "Most of the CO2 emissions of steel come from reducing iron ore (primarily ferrite, Fe2O3). In this step, pig iron, an alloy of steel with carbon, is produced by reaction of carbon monoxide with iron ore in a blast furnace, and turned into steel by removing most of the carbon (source: [wikipedia](https://en.wikipedia.org/wiki/Blast_furnace)). The blast furnace is filled with iron ore and coal and fed with just enough oxygen to partially burn the coal.\n",
    "\n",
    "2 C + O2 --> 2 CO\n",
    "\n",
    "It is the CO that then reduces the iron ore\n",
    "\n",
    "Fe2O3 + 3 CO --> 2 Fe + 3 CO2\n",
    "\n",
    "What are the stoichiometric CO2 emissions due to 1 ton of steel?"
   ]
  },
  {
   "cell_type": "code",
   "execution_count": null,
   "id": "73bf2efa",
   "metadata": {},
   "outputs": [],
   "source": []
  },
  {
   "cell_type": "markdown",
   "id": "9c311e3a",
   "metadata": {},
   "source": [
    "#### b. Concrete\n",
    "\n",
    "The direct emissions of concrete are due to the production of cement, a viscous liquid mixture of CaO, SiO2, and Al2O3 that hardens after mixing with water, binding the concrete. The lime, CaO, makes up about 50% of the mass of cement. The cement in turn makes up about 15% of the mass of concrete, the rest being sand and aggregate, though actual values vary a lot (source: [wikipedia](https://en.wikipedia.org/wiki/Concrete)).\n",
    "\n",
    "The CaO of cement is formed by heating limestone (calcium carbonate, CaCO3) to 1400-1500 degrees C in a furance, causing it to release CO2:\n",
    "\n",
    "CaCO3 --> CaO + CO2\n",
    "\n",
    "What are the stoichiometric CO2 emissions due to 1 ton of concrete?"
   ]
  },
  {
   "cell_type": "code",
   "execution_count": null,
   "id": "e62b0c13",
   "metadata": {},
   "outputs": [],
   "source": []
  },
  {
   "cell_type": "markdown",
   "id": "bc6b6ac4",
   "metadata": {},
   "source": [
    "#### c. Silicon\n",
    "\n",
    "Silicon production is a bit more complex than I implied in my lecture on Friday. \n",
    "Rather than just \n",
    "C + SiO2 --> CO2 + Si, \n",
    "it happens step-by-step in a way that requires more coal. The process is:\n",
    "\n",
    "- SiO2 + 2C --> Si + 2 CO   \n",
    "in the furnace, and \n",
    "- 2 CO + O2 --> 2 CO2        \n",
    "at the top of the furnace, where the flue gas meets the air.\n",
    "\n",
    "Source: [Saevarsdottir, et al. Infacon XVI, 2021](https://dx.doi.org/10.2139/ssrn.3926088)\n",
    "\n",
    "What are the stoichiometric CO2 emissions due to 1 ton of silicon?"
   ]
  },
  {
   "cell_type": "code",
   "execution_count": null,
   "id": "8dde7e81",
   "metadata": {},
   "outputs": [],
   "source": []
  },
  {
   "cell_type": "markdown",
   "id": "31cb0a0b",
   "metadata": {},
   "source": [
    "### 1.2 Technology calculations\n",
    "\n",
    "#### a. Non-stoichiometric CO2 emissions\n",
    "\n",
    "Reference values for the emissions of the materials described above are: \n",
    "\n",
    "- steel: 1.89 kg CO2 / kg.    Source: [World Steel Association](https://worldsteel.org/climate-action/climate-change-and-the-production-of-iron-and-steel/)\n",
    "- concrete: 0.18 kg CO2 / kg.     Source: [wikipedia](https://en.wikipedia.org/wiki/Environmental_impact_of_concrete#Carbon_dioxide_emissions_and_climate_change)\n",
    "- Silicon: 10 kg CO2 / kg.     Source: [Saevarsdottir, et al. Infacon XVI, 2021](https://dx.doi.org/10.2139/ssrn.3926088)\n",
    "\n",
    "What can explain the difference with the stoichiometric values you calculated in 2.1? "
   ]
  },
  {
   "cell_type": "markdown",
   "id": "8487435f",
   "metadata": {},
   "source": [
    "________________."
   ]
  },
  {
   "cell_type": "markdown",
   "id": "f113bb2b",
   "metadata": {},
   "source": [
    "Additional reference values are:\n",
    "\n",
    "- Glass: 0.5 kg CO2 / kg.     Source: [Zier et al, Energy Conversion and Management, 2010](https://www.sciencedirect.com/science/article/pii/S2590174521000088)\n",
    "- Copper: 4.6 kg CO2 / kg.     Source: [International Copper Agency](https://internationalcopper.org/wp-content/uploads/2023/03/ICA-GlobalDecarb-Summary-A4-202302-R3.pdf)\n",
    "- Aluminium: 6.8 kg CO2 / kg.     Source: [European Aluminium](https://european-aluminium.eu/projets/a-low-carbon-footprint/)\n",
    "- Plastic: 2.6 kg CO2 / kg.     Source [Climatiq](https://www.climatiq.io/data/emission-factor/e8eed92f-6260-418f-ad53-32839143e48b)\n",
    "\n",
    "#### b. Wind power embodied emissions\n",
    "\n",
    "According to [Vestas](https://www.vestas.com/content/dam/vestas-com/global/en/sustainability/environment/2024_04_Material-Use-Brochure_Vestas.pdf.coredownload.inline.pdf), their largest onshore ind turbine, the V172, with a nameplate capacity of 7.2 MW, weighs 928 tonnes and consists of the following materials:\n",
    "\n",
    "|  material | portion of turbine mass  |\n",
    "| ----------- | ----------- |\n",
    "| Steel and iron | 87.6% | \n",
    "| Aluminium and alloys | 1.1% |\n",
    "| Copper and alloys | 0.6 % |\n",
    "| Polymer materials | 4.2% |\n",
    "| Glass and composites | 5.7% |\n",
    "| Electronics | 0.5% |\n",
    "\n",
    "However, this excludes the foundation (concrete) and the cabling (copper). The concrete typically weights 3 times the weight of the turbine itself, and the site cables typically add a mass of copper and aluminium each equal to about 0.2% of the mass of the turbines. Source: [EU, 2018](https://op.europa.eu/en/publication-detail/-/publication/19aae047-7f88-11ea-aea8-01aa75ed71a1/language-en).\n",
    "\n",
    "What are the embedded emissions per MW of nameplate capacity in a wind farm using the Vestas V172?"
   ]
  },
  {
   "cell_type": "code",
   "execution_count": null,
   "id": "a2445a6c",
   "metadata": {},
   "outputs": [],
   "source": []
  },
  {
   "cell_type": "markdown",
   "id": "69adfcbd",
   "metadata": {},
   "source": [
    "#### c. Solar cell embodied emissions\n",
    "\n",
    "The silicon layers of a solar cell are about 250 micrometers thick, and the glass layer on top is about 500 micrometers thick. The density of silicon is 2.65 g/cm^3 and that for glass is 2.5 g/cm^3. \n",
    "\n",
    "In addition, for every square meter of panel, the aluminium mounting frames weigh about 2 kg. \n",
    "\n",
    "Ignoring other contributions, calculate the embodied CO2 emissions of a square meter of silicon solar panel.\n",
    "\n",
    "Calculate also the embodied CO2 emissions per MW of nameplate capacity of silicon solar cells, using the solar irradiation constant of 1 kW/m^2 and a rated efficiency of 20%."
   ]
  },
  {
   "cell_type": "code",
   "execution_count": null,
   "id": "46109373",
   "metadata": {},
   "outputs": [],
   "source": []
  },
  {
   "cell_type": "markdown",
   "id": "59d805de",
   "metadata": {},
   "source": [
    "### 1.3 CO2 intensity of electricity\n",
    "\n",
    "Calculate the CO2 intensity of electricity for wind and solar, ignoring the emmissions associated with operation and maintanence (which is very small compared to the embodied emissions for these technologies)\n",
    "\n",
    "#### a. CO2 intensity of wind electricity\n",
    "\n",
    "Wind turbines are typically assumed to be in operation for 25 years. An on-shore wind turbine in Denmark typically gets a capacity factor of 35%"
   ]
  },
  {
   "cell_type": "code",
   "execution_count": null,
   "id": "bf704b4b",
   "metadata": {},
   "outputs": [],
   "source": []
  },
  {
   "cell_type": "markdown",
   "id": "83df3bb7",
   "metadata": {},
   "source": [
    "#### b. CO2 intensity of solar electricity\n",
    "\n",
    "Solar panels are typically assumed to be in operation for 30 years. A solar panel in Denmark typically gets a capacity factor of 10%. (I know, it's sad...)"
   ]
  },
  {
   "cell_type": "code",
   "execution_count": null,
   "id": "2802f9db",
   "metadata": {},
   "outputs": [],
   "source": []
  },
  {
   "cell_type": "markdown",
   "id": "2fd4e340",
   "metadata": {},
   "source": [
    "#### c. Check your answers!\n",
    "\n",
    "electricitymaps.com uses the numbers 13 gCO2/kWh for wind and 38 gCO2/kWh for solar. How do your numbers compare? What additional factors might be missing from the above calculations?\n"
   ]
  },
  {
   "cell_type": "markdown",
   "id": "aed7fe68",
   "metadata": {},
   "source": [
    "__________ ."
   ]
  },
  {
   "cell_type": "markdown",
   "id": "d12716af",
   "metadata": {},
   "source": [
    "(This indicates how involved a proper life-cycle assessment is!)\n",
    "\n",
    "#### d. Fossil electricity\n",
    "\n",
    "The emissoins intensity of electricity from fossil-fueled power plants is dominated by the fuel.\n",
    "\n",
    "Based on your answers to w1.1.3.d, where you calculated the energy content of fuels, what is the emissions intensity for coal power (approx. 30% efficient) and natural gas power (approx. 40% efficient)? \n",
    "\n",
    "Compare your answers with the carbon intensities on electricitymaps.com"
   ]
  },
  {
   "cell_type": "code",
   "execution_count": null,
   "id": "5f9c95f1",
   "metadata": {},
   "outputs": [],
   "source": []
  },
  {
   "cell_type": "markdown",
   "id": "7b7f673c",
   "metadata": {},
   "source": [
    "###  2.4 Emissions payback time\n",
    "\n",
    "Assume that \n",
    "1. you are installing a wind park or solar park in Denmark. \n",
    "2. the only emissions cost is the embodied emissions calculated above, and \n",
    "3. that the electricity it will produce displaces electricity with the average CO2 intensity of electricity in Denmark (see, e.g. energinet.dk or electricitymaps.com).\n",
    "\n",
    "What is the emissions payback time if you go with\n",
    "\n",
    "#### a. wind?"
   ]
  },
  {
   "cell_type": "code",
   "execution_count": null,
   "id": "b95d5835",
   "metadata": {},
   "outputs": [],
   "source": []
  },
  {
   "cell_type": "markdown",
   "id": "3aab1766",
   "metadata": {},
   "source": [
    "#### b. solar?"
   ]
  },
  {
   "cell_type": "code",
   "execution_count": null,
   "id": "ed81b434",
   "metadata": {},
   "outputs": [],
   "source": []
  },
  {
   "cell_type": "markdown",
   "id": "0a997a1d",
   "metadata": {},
   "source": [
    "## 2. Levelized cost of electricity\n",
    "\n"
   ]
  },
  {
   "cell_type": "markdown",
   "id": "a4da7f7f",
   "metadata": {},
   "source": [
    "### 2.1. Levelized cost of solar electricity\n",
    "\n",
    "The capital costs of solar electricity are about 1200 EUR per kW of nameplate capacity. Operating costs are around 15 EUR per year per kW. (Source: [NREL](https://atb.nrel.gov/electricity/2023/utility-scale_pv))\n",
    "\n",
    "Using the year-averaged capacity factor of 10% for solar in Denmark, a lifetime of 30 years, and a discount rate of 3%, calculate the levelized cost of electricity for solar in Denmark in EUR/MWh."
   ]
  },
  {
   "cell_type": "code",
   "execution_count": null,
   "id": "c9813cab",
   "metadata": {},
   "outputs": [],
   "source": []
  },
  {
   "cell_type": "markdown",
   "id": "c8ee1a84",
   "metadata": {},
   "source": [
    "### 2.2. Levelized cost of gas electricity\n",
    "\n",
    "A massive data center is looking for a reliable power supply and considering a gas turbine power plant.\n",
    "\n",
    "Let's say a new 1-GW gas plant that cost 1 billion euros (based on 1000 EUR / kW from [wikipedia](https://en.wikipedia.org/wiki/Cost_of_electricity_by_source#Capital_costs)), is 40% efficient, and runs almost all the time with a capacity factor of 80%. \n",
    "\n",
    "The cost of gas is assumed to be stable at 7 EUR/MWh (chemical energy), and in addition to fuel, the plant will cost 10 EUR per MWh in operating and maintanence costs.\n",
    "\n",
    "Using a discount rate of 3%, what is the levelized cost of electricity of the gas plant?"
   ]
  },
  {
   "cell_type": "code",
   "execution_count": null,
   "id": "505a607d",
   "metadata": {},
   "outputs": [],
   "source": []
  },
  {
   "cell_type": "markdown",
   "id": "fad8c825",
   "metadata": {},
   "source": [
    "### 2.3. The effect of discount rate\n",
    "\n",
    "3% is a discount rate often used by public investors, and arrived at by considering the social costs of capital\n",
    "\n",
    "Private investors often use a much higher discount rate - typically 7% but as high as 15%. This reflects lower tolerance for the risk involved in distant-future payback, and the opportunity cost that they could potentially invest the money somewhere with high returns.\n",
    "\n",
    "Re-calculate the levelized costs of solar and gas, raising the discount rate from 3% to 15%. How does that change the relative price of gas electricity to solar electricity?"
   ]
  },
  {
   "cell_type": "code",
   "execution_count": null,
   "id": "196d03c7",
   "metadata": {},
   "outputs": [],
   "source": []
  },
  {
   "cell_type": "markdown",
   "id": "0ed3a900",
   "metadata": {},
   "source": [
    "## 3. Merit order curve\n",
    "\n",
    "\n",
    "The following are approximate marginal costs of electricity generation (including CO2 quota fee):\n",
    "\n",
    "| Source      | Cost in \\[EUR/MWh\\] |\n",
    "| ----------- | ----------- |\n",
    "| Wind power  | 8        |\n",
    "| Solar power | 10        |\n",
    "| Waste incenration     | 2 |\n",
    "| Biomass power | 30      |\n",
    "| Gas power  | 50    |\n",
    "| Oil power  | 120      |\n",
    "| Coal power | 60      |\n",
    "| Nuclear power  | 7      |\n",
    "\n",
    "For the hour starting at 15:00 on a sunny and breezy spring afternoon in Zealand, the following bids are cast:\n",
    "\n",
    "| Source      | Bid in \\[MW\\] |\n",
    "| ----------- | ----------- |\n",
    "| Wind power  | 1200        |\n",
    "| Solar power | 500       |\n",
    "| Waste   | 200 |\n",
    "| Biomass power | 600      |\n",
    "| Gas power  | 500       |\n",
    "| Oil power  | 500      |\n",
    "| Coal power | 800      |\n",
    "\n",
    "\n",
    "Sources: Fake numbers loosely based on NREL, [Flex power](https://flex-power.energy/school-of-flex/marginal-costs-merit-order/), and electricitymaps.com\n",
    "\n",
    "#### a. Draw the merit order curve for 15:00"
   ]
  },
  {
   "cell_type": "code",
   "execution_count": null,
   "id": "236c37fc",
   "metadata": {},
   "outputs": [],
   "source": [
    "from matplotlib import pyplot as plt\n",
    "\n",
    "\n",
    "# example code for making a plot:\n",
    "\n",
    "\n",
    "fig, ax = plt.subplots()\n",
    "ax.set_xlabel(\"Power generation / [MW]\")\n",
    "ax.set_ylabel(\"Price / [EUR/MW]\") \n",
    "\n",
    "# finish these vectors!\n",
    "x_vector = [0, 0, 1200, 1200, ]\n",
    "y_vector = [0, 8, 8, 10, ]\n",
    "\n",
    "ax.plot(x_vector, y_vector, \"k\")"
   ]
  },
  {
   "cell_type": "markdown",
   "id": "5d0b358b",
   "metadata": {},
   "source": [
    "#### b. What is the price of electricity for 15:00?\n",
    "\n",
    "Given that the total power demand during that hour is 2.9 GW."
   ]
  },
  {
   "cell_type": "code",
   "execution_count": null,
   "id": "abc96a96",
   "metadata": {},
   "outputs": [],
   "source": []
  },
  {
   "cell_type": "markdown",
   "id": "1d0f381a",
   "metadata": {},
   "source": [
    "#### b. What is the price of electricity for 18:00?\n",
    "\n",
    "A few hours later, the wind is still blowing but the sun has gone down and the Danes have gone home and started hygging. The electricity demand in the hour starting at 18:00 has increased to 3.5 GW. All other bids into the market stay the same, but the solar bid has decreased to zero.\n",
    "\n",
    "What is the price of electricity now?"
   ]
  },
  {
   "cell_type": "code",
   "execution_count": null,
   "id": "c12c13cc",
   "metadata": {},
   "outputs": [],
   "source": []
  }
 ],
 "metadata": {
  "kernelspec": {
   "display_name": "Python 3 (ipykernel)",
   "language": "python",
   "name": "python3"
  },
  "language_info": {
   "codemirror_mode": {
    "name": "ipython",
    "version": 3
   },
   "file_extension": ".py",
   "mimetype": "text/x-python",
   "name": "python",
   "nbconvert_exporter": "python",
   "pygments_lexer": "ipython3",
   "version": "3.11.5"
  }
 },
 "nbformat": 4,
 "nbformat_minor": 5
}
